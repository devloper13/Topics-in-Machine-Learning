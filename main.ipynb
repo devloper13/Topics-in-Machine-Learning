{
 "cells": [
  {
   "cell_type": "code",
   "execution_count": 90,
   "metadata": {},
   "outputs": [],
   "source": [
    "from abc import ABC, abstractmethod\n",
    "import random\n",
    "import numpy as np\n",
    "import copy\n",
    "import matplotlib.pyplot as plt\n",
    "from scipy.stats import poisson"
   ]
  },
  {
   "cell_type": "code",
   "execution_count": 91,
   "metadata": {},
   "outputs": [],
   "source": [
    "class DiscreteEnvironment(ABC):\n",
    "    \n",
    "    @abstractmethod\n",
    "    def step(self,action):\n",
    "        pass\n",
    "    \n",
    "    @abstractmethod\n",
    "    def reset(self):\n",
    "        pass\n",
    "    \n",
    "class DiscreteAgent(ABC):\n",
    "    @abstractmethod\n",
    "    def __init__(self,env):\n",
    "        pass\n",
    "    \n",
    "    @abstractmethod\n",
    "    def update(self):\n",
    "        pass\n",
    "    \n",
    "    @abstractmethod\n",
    "    def get_action(self,state):\n",
    "        pass"
   ]
  },
  {
   "cell_type": "code",
   "execution_count": 220,
   "metadata": {},
   "outputs": [],
   "source": [
    "class GridWorld(DiscreteEnvironment):\n",
    "    def __init__(self,r,c):\n",
    "        self.maxrow = r\n",
    "        self.maxcol = c\n",
    "        self.tot_act = 4\n",
    "        self.actions = [0,1,2,3]\n",
    "        self.vi_list = []\n",
    "        self.pi_list = []\n",
    "        self.reset()  \n",
    "        \n",
    "    def foul_state(self,row,col):\n",
    "        if row < 0 or row >= self.maxrow or col < 0 or col >= self.maxcol:\n",
    "            return 1\n",
    "        return 0\n",
    "    \n",
    "    def step(self,action):\n",
    "        row_copy = self.navigate_row\n",
    "        col_copy = self.navigate_col\n",
    "        \n",
    "        if self.navigate_row == self.goal_row and self.navigate_col == self.goal_col:\n",
    "            reward = 10\n",
    "            done = True\n",
    "            state = (self.navigate_row,self.navigate_col)\n",
    "        else:\n",
    "            if action == 0:\n",
    "                self.navigate_row -= 1\n",
    "            elif action == 1:\n",
    "                self.navigate_row += 1\n",
    "            elif action == 2:\n",
    "                self.navigate_col -= 1\n",
    "            elif action == 3:\n",
    "                self.navigate_col += 1\n",
    "\n",
    "            if self.foul_state(self.navigate_row,self.navigate_col): \n",
    "                reward = 0\n",
    "                done = True\n",
    "                state = (row_copy,col_copy)\n",
    "                #print(state)\n",
    "            elif self.navigate_row == self.goal_row and self.navigate_col == self.goal_col:\n",
    "                reward = 10\n",
    "                done = True\n",
    "                state = (self.navigate_row,self.navigate_col)\n",
    "            else: \n",
    "                reward = 0\n",
    "                done = False\n",
    "                state = (self.navigate_row,self.navigate_col)\n",
    "        \n",
    "        return state,reward,done\n",
    "    \n",
    "    '''\n",
    "    Used for dynamic programming methods where the start state is selected iteratively\n",
    "    '''\n",
    "    def set_start_state(self,state):\n",
    "        self.navigate_row = state[0]\n",
    "        self.navigate_col = state[1]\n",
    "        \n",
    "    '''\n",
    "    Initialize random start and goal state\n",
    "    '''\n",
    "    def reset(self):\n",
    "        \n",
    "        #self.start_row = 0#random.randint(0,self.maxrow-1)\n",
    "        #self.start_col = 0#random.randint(0,self.maxcol-1)\n",
    "        self.goal_row = 7#random.randint(0,self.maxrow-1)\n",
    "        self.goal_col = 7#random.randint(0,self.maxcol-1)\n",
    "        #self.navigate_row = self.start_row\n",
    "        #self.navigate_col = self.start_col \n",
    "    \n",
    "    '''\n",
    "    Under construction\n",
    "    '''\n",
    "    def vi_test(self,Q):\n",
    "        N = 10\n",
    "        return_val = 0\n",
    "        while N:\n",
    "            start_row = 0#random.randint(0,self.maxrow-1)\n",
    "            start_col = 0#random.randint(0,self.maxcol-1)\n",
    "            tot_iter = 20\n",
    "            while tot_iter:\n",
    "                state = (start_row,start_col)\n",
    "                self.set_start_state(state)\n",
    "                action = np.argmax(Q[state])\n",
    "                new_state,reward,done = self.step(action)\n",
    "                return_val += (reward + 0.9 * np.max(Q[new_state]))/N\n",
    "                if new_state[0] == self.goal_row and new_state[1] == self.goal_col:\n",
    "                    break\n",
    "                tot_iter -= 1\n",
    "                start_row = new_state[0]\n",
    "                state_col = new_state[1]\n",
    "            N-=1\n",
    "        self.vi_list.append(return_val)\n",
    "    \n",
    "    def pi_test(self,P,V):\n",
    "        N = 10\n",
    "        return_val = 0\n",
    "        while N:\n",
    "            start_row = 0#random.randint(0,self.maxrow-1)\n",
    "            start_col = 0#random.randint(0,self.maxcol-1)\n",
    "            tot_iter = 20\n",
    "            while tot_iter:\n",
    "                state = (start_row,start_col)\n",
    "                self.set_start_state(state)\n",
    "                action = P[state]\n",
    "                new_state,reward,done = self.step(action)\n",
    "                return_val += (reward + 0.9 * V[new_state])/N\n",
    "                if new_state[0] == self.goal_row and new_state[1] == self.goal_col:\n",
    "                    break\n",
    "                tot_iter -= 1\n",
    "                start_row = new_state[0]\n",
    "                state_col = new_state[1]\n",
    "            N-=1\n",
    "        self.pi_list.append(return_val)"
   ]
  },
  {
   "cell_type": "code",
   "execution_count": 217,
   "metadata": {},
   "outputs": [],
   "source": [
    "class ValueIteration(DiscreteAgent):\n",
    "    def __init__(self,env):\n",
    "        self.env = env\n",
    "        self.gamma = 0.9\n",
    "        self.Q = np.zeros((env.maxrow,env.maxcol,env.tot_act))\n",
    "        self.V = np.zeros((env.maxrow,env.maxcol))\n",
    "        \n",
    "    def update(self):\n",
    "        \n",
    "        while True:\n",
    "            delta = 0\n",
    "            for row in range(len(self.V)):\n",
    "                for col in range(len(self.V[row])):\n",
    "                    state=(row,col)\n",
    "                    v = self.V[state]\n",
    "                    for action in self.env.actions:\n",
    "                        self.env.set_start_state(state)\n",
    "                        new_state,reward,done = self.env.step(action)\n",
    "                        #print(reward)\n",
    "                        self.Q[state][action] = reward + self.gamma * self.V[new_state]\n",
    "                    self.V[state] = np.max(self.Q[state])\n",
    "                    delta = max(delta,abs(v-self.V[state]))\n",
    "                    #print(delta)\n",
    "            if delta < 0.01:\n",
    "                break\n",
    "            #print(self.V)\n",
    "            self.env.vi_test(self.Q)\n",
    "    \n",
    "    def get_action(self):\n",
    "        pass"
   ]
  },
  {
   "cell_type": "code",
   "execution_count": 198,
   "metadata": {},
   "outputs": [],
   "source": [
    "class PolicyIteration(DiscreteAgent):\n",
    "    def __init__(self,env):\n",
    "        self.env = env\n",
    "        self.gamma = 0.9\n",
    "        self.Q = np.zeros((env.maxrow,env.maxcol,env.tot_act))\n",
    "        self.V = np.zeros((env.maxrow,env.maxcol))\n",
    "        self.policy = np.random.randint(env.tot_act,size=(env.maxrow,env.maxcol))\n",
    "        self.policy_stable = False\n",
    "    \n",
    "    def update(self):\n",
    "        while not self.policy_stable:\n",
    "            self.policy_evaluation()\n",
    "            self.policy_improvement()\n",
    "    \n",
    "    def policy_evaluation(self):\n",
    "        eps = 1e-1\n",
    "        while True:\n",
    "            delta = 0\n",
    "            for row in range(len(self.V)):\n",
    "                for col in range(len(self.V[row])):\n",
    "                    state=(row,col)\n",
    "                    v = self.V[state]\n",
    "                    self.env.set_start_state(state)\n",
    "                    action = self.policy[state]\n",
    "                    new_state,reward,done = self.env.step(action)\n",
    "                    self.Q[state][action] = reward + \\\n",
    "                                            self.gamma * self.V[new_state]\n",
    "                    self.V[state] = self.Q[state][action]\n",
    "                    delta = max(delta,np.abs(v-self.V[state]))\n",
    "            #self.env.pi_test(self.policy,self.V)       \n",
    "            #print(self.V)\n",
    "            if delta < eps:\n",
    "                break\n",
    "            \n",
    "    def policy_improvement(self):\n",
    "        self.policy_stable = True\n",
    "        for row in range(len(self.V)):\n",
    "            for col in range(len(self.V[row])):\n",
    "                state=(row,col)\n",
    "                v = self.V[state]\n",
    "                for action in self.env.actions:\n",
    "                    self.env.set_start_state(state)\n",
    "                    new_state,reward,done = self.env.step(action)\n",
    "                    self.Q[state][action] = reward + self.gamma * self.V[new_state]\n",
    "                #if v != np.max(self.Q[state]):\n",
    "                self.V[state] = np.max(self.Q[state])\n",
    "                \n",
    "                if np.argmax(self.Q[state]) != self.policy[state]:\n",
    "                    self.policy[state] = np.argmax(self.Q[state])\n",
    "                    self.policy_stable = False\n",
    "        #print(self.V)\n",
    "        self.env.pi_test(self.policy,self.V)\n",
    "                    \n",
    "    \n",
    "    def get_action(self):\n",
    "        pass"
   ]
  },
  {
   "cell_type": "code",
   "execution_count": null,
   "metadata": {},
   "outputs": [],
   "source": []
  },
  {
   "cell_type": "markdown",
   "metadata": {},
   "source": [
    "## Value Iteration"
   ]
  },
  {
   "cell_type": "code",
   "execution_count": 221,
   "metadata": {},
   "outputs": [],
   "source": [
    "env = GridWorld(8,8)\n",
    "agent  = ValueIteration(env)\n",
    "\n",
    "\n",
    "sweep_no,max_sweeps = 0,50\n",
    "agent.update()\n",
    "#sweep_no+=1"
   ]
  },
  {
   "cell_type": "code",
   "execution_count": 222,
   "metadata": {
    "scrolled": true
   },
   "outputs": [
    {
     "data": {
      "text/plain": [
       "array([[25.33270784, 28.1570032 , 31.29510916, 34.78189356, 38.65609845,\n",
       "        42.96077055, 47.74373955, 53.05814955],\n",
       "       [28.1570032 , 31.29510916, 34.78189356, 38.65609845, 42.96077055,\n",
       "        47.74373955, 53.05814955, 58.96304955],\n",
       "       [31.29510916, 34.78189356, 38.65609845, 42.96077055, 47.74373955,\n",
       "        53.05814955, 58.96304955, 65.52404955],\n",
       "       [34.78189356, 38.65609845, 42.96077055, 47.74373955, 53.05814955,\n",
       "        58.96304955, 65.52404955, 72.81404955],\n",
       "       [38.65609845, 42.96077055, 47.74373955, 53.05814955, 58.96304955,\n",
       "        65.52404955, 72.81404955, 80.91404955],\n",
       "       [42.96077055, 47.74373955, 53.05814955, 58.96304955, 65.52404955,\n",
       "        72.81404955, 80.91404955, 89.91404955],\n",
       "       [47.74373955, 53.05814955, 58.96304955, 65.52404955, 72.81404955,\n",
       "        80.91404955, 89.91404955, 99.91404955],\n",
       "       [53.05814955, 58.96304955, 65.52404955, 72.81404955, 80.91404955,\n",
       "        89.91404955, 99.91404955, 99.91404955]])"
      ]
     },
     "execution_count": 222,
     "metadata": {},
     "output_type": "execute_result"
    }
   ],
   "source": [
    "agent.V"
   ]
  },
  {
   "cell_type": "code",
   "execution_count": null,
   "metadata": {
    "collapsed": true
   },
   "outputs": [],
   "source": []
  },
  {
   "cell_type": "markdown",
   "metadata": {},
   "source": [
    "## Poilcy Iteration"
   ]
  },
  {
   "cell_type": "code",
   "execution_count": 185,
   "metadata": {},
   "outputs": [],
   "source": [
    "env1 = GridWorld(8,8)\n",
    "agent  = PolicyIteration(env1)\n",
    "agent.update()"
   ]
  },
  {
   "cell_type": "code",
   "execution_count": 186,
   "metadata": {},
   "outputs": [
    {
     "name": "stdout",
     "output_type": "stream",
     "text": [
      "[[1 1 1 1 1 1 1 1]\n",
      " [1 1 1 1 1 1 1 1]\n",
      " [1 1 1 1 1 1 1 1]\n",
      " [1 1 1 1 1 1 1 1]\n",
      " [1 1 1 1 1 1 1 1]\n",
      " [1 1 1 1 1 1 1 1]\n",
      " [1 1 1 1 1 1 1 1]\n",
      " [3 3 3 3 3 3 3 0]]\n",
      "[[25.33270784 28.1570032  31.29510916 34.78189356 38.65609845 42.96077055\n",
      "  47.74373955 53.05814955]\n",
      " [28.1570032  31.29510916 34.78189356 38.65609845 42.96077055 47.74373955\n",
      "  53.05814955 58.96304955]\n",
      " [31.29510916 34.78189356 38.65609845 42.96077055 47.74373955 53.05814955\n",
      "  58.96304955 65.52404955]\n",
      " [34.78189356 38.65609845 42.96077055 47.74373955 53.05814955 58.96304955\n",
      "  65.52404955 72.81404955]\n",
      " [38.65609845 42.96077055 47.74373955 53.05814955 58.96304955 65.52404955\n",
      "  72.81404955 80.91404955]\n",
      " [42.96077055 47.74373955 53.05814955 58.96304955 65.52404955 72.81404955\n",
      "  80.91404955 89.91404955]\n",
      " [47.74373955 53.05814955 58.96304955 65.52404955 72.81404955 80.91404955\n",
      "  89.91404955 99.91404955]\n",
      " [53.05814955 58.96304955 65.52404955 72.81404955 80.91404955 89.91404955\n",
      "  99.91404955 99.91404955]]\n"
     ]
    }
   ],
   "source": [
    "print(agent.policy)\n",
    "print(agent.V)"
   ]
  },
  {
   "cell_type": "code",
   "execution_count": null,
   "metadata": {},
   "outputs": [],
   "source": []
  },
  {
   "cell_type": "code",
   "execution_count": 99,
   "metadata": {},
   "outputs": [
    {
     "data": {
      "image/png": "[encoded data removed]",
      "text/plain": [
       "<matplotlib.figure.Figure at 0x7f82a9248208>"
      ]
     },
     "metadata": {
      "needs_background": "light"
     },
     "output_type": "display_data"
    }
   ],
   "source": [
    "iteration_vi = list(range(0,max_sweeps))\n",
    "iteration_pi = list(range(0,len(env1.pi_list)))\n",
    "plt.plot(iteration_vi,env.vi_list,label='Value iteration')\n",
    "plt.plot(iteration_pi,env1.pi_list,label = 'Policy iteration')\n",
    "plt.xlabel(\"iterations\")\n",
    "plt.ylabel(\"average return per iteration\")\n",
    "plt.title(\"DP methods\")\n",
    "plt.legend()\n",
    "plt.show()"
   ]
  },
  {
   "cell_type": "code",
   "execution_count": 22,
   "metadata": {},
   "outputs": [
    {
     "data": {
      "text/plain": [
       "[0.0,\n",
       " 0.0,\n",
       " 0.0,\n",
       " 0.0,\n",
       " 0.0,\n",
       " 0.0,\n",
       " 0.0,\n",
       " 0.0,\n",
       " 0.0,\n",
       " 0.0,\n",
       " 0.0,\n",
       " 0.0,\n",
       " 1488.7160839835265,\n",
       " 2754.1712594227324,\n",
       " 2754.2163181756237]"
      ]
     },
     "execution_count": 22,
     "metadata": {},
     "output_type": "execute_result"
    }
   ],
   "source": [
    "env1.pi_list"
   ]
  },
  {
   "cell_type": "markdown",
   "metadata": {},
   "source": [
    "## Car Rental"
   ]
  },
  {
   "cell_type": "code",
   "execution_count": 35,
   "metadata": {},
   "outputs": [],
   "source": [
    "class CarRental:\n",
    "    def __init__(self,max_car_A,max_car_B):\n",
    "        self.tot_act = 11\n",
    "        self.maxrow = max_car_A+1\n",
    "        self.maxcol = max_car_B+1\n",
    "        self.car_A = max_car_A\n",
    "        self.car_B = max_car_B\n",
    "        self.actions = [-5,-4,-3,-2,-1,0,1,2,3,4,5]\n",
    "        self.index_act = {-5:10,-4:9,-3:8,-2:7,-1:6,0:0,1:1,2:2,3:3,4:4,5:5}\n",
    "        #self.gamma = 0.9\n",
    "        #self.sell_reward = 10\n",
    "        #self.transfer_cost = 2\n",
    "        self.pi_list = []\n",
    "        self.P_rental,self.P_return = self.prepare_transition()\n",
    "    \n",
    "    def prepare_transition(self):\n",
    "        P_rental = np.zeros((self.maxrow,self.maxcol))\n",
    "        P_return = np.zeros((self.maxrow,self.maxcol))\n",
    "        for i in range(0,self.maxrow): #request\n",
    "            for j in range(0,self.maxrow): #return\n",
    "                P_rental[i][j] = self.req_ret(3,i) * self.req_ret(4,j)\n",
    "                P_return[i][j] = self.req_ret(3,i) * self.req_ret(2,j)\n",
    "        return P_rental,P_return\n",
    "            \n",
    "                \n",
    "    def req_ret(self,lamb,N):\n",
    "        return poisson.pmf(N, lamb)\n",
    "    \n",
    "    def pi_test(self,P,V):\n",
    "        N = 10\n",
    "        return_val = 0\n",
    "        while N:\n",
    "            start_row = 0#random.randint(0,self.maxrow-1)\n",
    "            start_col = 0#random.randint(0,self.maxcol-1)\n",
    "            tot_iter = 20\n",
    "            while tot_iter:\n",
    "                state = (start_row,start_col)\n",
    "                self.set_start_state(state)\n",
    "                action = P[state]\n",
    "                new_state,reward,done = self.step(action)\n",
    "                return_val += (reward + 0.9 * V[new_state])/N\n",
    "                if new_state[0] == self.goal_row and new_state[1] == self.goal_col:\n",
    "                    break\n",
    "                tot_iter -= 1\n",
    "                start_row = new_state[0]\n",
    "                state_col = new_state[1]\n",
    "            N-=1\n",
    "        self.pi_list.append(return_val)"
   ]
  },
  {
   "cell_type": "code",
   "execution_count": 43,
   "metadata": {},
   "outputs": [],
   "source": [
    "class PolicyIterationRental:\n",
    "    def __init__(self,env):\n",
    "        self.env = env\n",
    "        self.gamma = 0.9\n",
    "        self.Q = np.zeros((env.maxrow,env.maxcol,env.tot_act))\n",
    "        self.V = np.zeros((env.maxrow,env.maxcol))\n",
    "        #self.policy = np.random.randint(-5,6,size=(env.maxrow,env.maxcol))\n",
    "        self.policy = np.zeros((env.maxrow,env.maxcol))\n",
    "        self.policy_stable = False\n",
    "    \n",
    "    def update(self):\n",
    "        while not self.policy_stable:\n",
    "            self.policy_evaluation()\n",
    "            self.policy_improvement()\n",
    "    \n",
    "    def policy_evaluation(self):\n",
    "        print(\"Evaluation\")\n",
    "        eps = 1e-2\n",
    "        iterations = 5\n",
    "        while iterations:\n",
    "        #while True:\n",
    "            delta = 0\n",
    "            for row in range(1,len(self.V)):\n",
    "                for col in range(1,len(self.V[row])):\n",
    "                    state=(row,col)\n",
    "                    v = self.V[state]\n",
    "                    #env.set_start_state(state)\n",
    "                    action = int(self.policy[state])\n",
    "                    self.Q[state][action] = self.calculate_return(action,state)\n",
    "                    self.V[state] = self.Q[state][action]\n",
    "                    delta = max(delta,np.abs(v-self.V[state]))\n",
    "            #self.env.pi_test(self.policy,self.V)       \n",
    "            #print(self.V)\n",
    "            iterations-=1\n",
    "            if delta < eps:\n",
    "                break\n",
    "            \n",
    "    def calculate_return(self,action,present_state):\n",
    "        action_cost = 2 * abs(action)\n",
    "        total_return = 0\n",
    "        for rental_A in range(len(self.env.P_rental)):\n",
    "            for rental_B in range(len(self.env.P_rental[rental_A])):\n",
    "                rental_state=(rental_A,rental_B)\n",
    "                prob_rental = self.env.P_rental[rental_state]\n",
    "                rental_cost = (rental_A + rental_B)*10\n",
    "                \n",
    "                for return_A in range(len(self.env.P_return)):\n",
    "                    new_state_A = present_state[0] - rental_A + return_A - action\n",
    "                    if new_state_A > self.env.car_A:\n",
    "                        break\n",
    "                        \n",
    "                    elif new_state_A > 0:\n",
    "                        for return_B in range(len(self.env.P_return[return_A])):\n",
    "                            return_state = (return_A,return_B)\n",
    "                            prob_return = self.env.P_return[return_state]\n",
    "\n",
    "                            new_state_B = present_state[1] - rental_B + return_B + action\n",
    "\n",
    "                            #print((new_state_A,new_state_B))\n",
    "\n",
    "                            if new_state_B > self.env.car_B:\n",
    "                                break\n",
    "                            elif new_state_B > 0:\n",
    "                                total_return+= prob_rental * prob_return * (rental_cost + \\\n",
    "                                               self.gamma * self.V[(new_state_A,new_state_B)]) \n",
    "        \n",
    "        return (total_return - action_cost)\n",
    "                 \n",
    "                \n",
    "    def policy_improvement(self):\n",
    "        print(\"Improvement\")\n",
    "        self.policy_stable = True\n",
    "        for row in range(1,len(self.V)):\n",
    "            for col in range(1,len(self.V[row])):\n",
    "                state=(row,col)\n",
    "                v = self.V[state]\n",
    "                for action in self.env.actions:\n",
    "                    self.Q[state][action] = self.calculate_return(action,state)\n",
    "                #if v != np.max(self.Q[state]):\n",
    "                self.V[state] = np.max(self.Q[state])\n",
    "                \n",
    "                if np.argmax(self.Q[state]) != self.policy[state]:\n",
    "                    self.policy[state] = np.argmax(self.Q[state])\n",
    "                    self.policy_stable = False\n",
    "        #print(self.V)\n",
    "        #self.env.pi_test(self.policy,self.V)\n",
    "                    \n",
    "    \n",
    "    def get_action(self):\n",
    "        pass"
   ]
  },
  {
   "cell_type": "code",
   "execution_count": 44,
   "metadata": {},
   "outputs": [
    {
     "name": "stdout",
     "output_type": "stream",
     "text": [
      "Evaluation\n",
      "Improvement\n",
      "Evaluation\n",
      "Improvement\n",
      "Evaluation\n",
      "Improvement\n",
      "Evaluation\n",
      "Improvement\n",
      "Evaluation\n",
      "Improvement\n",
      "Evaluation\n",
      "Improvement\n",
      "Evaluation\n",
      "Improvement\n",
      "Evaluation\n",
      "Improvement\n",
      "Evaluation\n",
      "Improvement\n",
      "Evaluation\n",
      "Improvement\n",
      "Evaluation\n",
      "Improvement\n",
      "Evaluation\n",
      "Improvement\n",
      "Evaluation\n",
      "Improvement\n"
     ]
    }
   ],
   "source": [
    "env_rental = CarRental(20,20)\n",
    "agent  = PolicyIterationRental(env_rental)\n",
    "agent.update()"
   ]
  },
  {
   "cell_type": "code",
   "execution_count": 45,
   "metadata": {
    "scrolled": false
   },
   "outputs": [
    {
     "data": {
      "text/plain": [
       "array([[  0.        ,   0.        ,   0.        ,   0.        ,\n",
       "          0.        ,   0.        ,   0.        ,   0.        ,\n",
       "          0.        ,   0.        ,   0.        ,   0.        ,\n",
       "          0.        ,   0.        ,   0.        ,   0.        ,\n",
       "          0.        ,   0.        ,   0.        ,   0.        ,\n",
       "          0.        ],\n",
       "       [  0.        ,  11.27649337,  18.90500256,  27.68255909,\n",
       "         36.49928297,  49.11179855,  61.96580421,  75.16237412,\n",
       "         89.3801602 , 101.78139001, 114.71717419, 127.86091082,\n",
       "        135.68164191, 135.55628892, 128.12924226, 115.54867459,\n",
       "        101.12277285,  88.09951387,  78.41405945,  72.28802261,\n",
       "         68.74525092],\n",
       "       [  0.        ,  17.57450808,  27.15716149,  39.88180888,\n",
       "         52.77178639,  64.72263158,  79.43169491,  93.57633494,\n",
       "        105.84381998, 119.46053955, 131.44750479, 142.35409379,\n",
       "        152.60123052, 154.56410844, 148.31561434, 135.53887636,\n",
       "        119.53429222, 104.04626077,  91.71145825,  83.28363962,\n",
       "         77.97523438],\n",
       "       [  0.        ,  26.12838116,  38.96734928,  53.03467804,\n",
       "         68.87678467,  83.94118817,  96.84477117, 111.14813081,\n",
       "        124.59336993, 135.74622964, 145.70377154, 156.73212063,\n",
       "        167.6043553 , 171.83151126, 167.4600904 , 155.54061317,\n",
       "        138.98934499, 121.68752188, 106.83132458,  95.80324367,\n",
       "         88.43275987],\n",
       "       [  0.        ,  37.66463487,  52.52407423,  68.54988663,\n",
       "         85.18866433, 101.98882433, 116.68421073, 128.55211505,\n",
       "        140.33441941, 151.85057637, 161.74758903, 171.36304201,\n",
       "        181.28965057, 187.80541779, 185.87454145, 175.8833214 ,\n",
       "        160.04612759, 141.95302478, 125.07265456, 111.38730024,\n",
       "        102.27514621],\n",
       "       [  0.        ,  51.44322807,  67.72293152,  85.36641737,\n",
       "        102.45862719, 119.07857824, 134.88003335, 147.03772372,\n",
       "        156.67285164, 166.71656272, 175.63532209, 184.64458268,\n",
       "        194.14761873, 202.78435265, 203.56613773, 196.36237366,\n",
       "        182.54231437, 165.01872146, 147.13068995, 131.24791838,\n",
       "        118.13954567],\n",
       "       [  0.        ,  66.61918748,  84.77972842, 102.255332  ,\n",
       "        120.04504603, 136.27505043, 150.61161928, 164.24568109,\n",
       "        172.16411389, 179.80103239, 188.42043815, 197.23352996,\n",
       "        206.44006633, 216.85791501, 220.2593709 , 216.28440762,\n",
       "        205.55257642, 190.0863738 , 172.68621882, 155.73765707,\n",
       "        140.42478362],\n",
       "       [  0.        ,  83.77701754, 101.69973236, 120.05583803,\n",
       "        136.83301953, 152.40914891, 166.63320138, 178.68050983,\n",
       "        187.56912141, 194.0280931 , 202.84560417, 211.49286864,\n",
       "        220.65803443, 230.11931309, 235.84073198, 235.09881918,\n",
       "        227.99283789, 215.68940818, 200.23781368, 183.70478582,\n",
       "        167.40697545],\n",
       "       [  0.        , 100.89502853, 119.62008523, 137.10275557,\n",
       "        153.61661804, 168.74662817, 181.48276951, 192.72006848,\n",
       "        203.25143186, 209.4608365 , 218.05044038, 226.0342974 ,\n",
       "        234.10150619, 242.04300137, 249.4259238 , 251.3337653 ,\n",
       "        247.65006324, 238.91642113, 226.44299908, 211.78284799,\n",
       "        196.10747654],\n",
       "       [  0.        , 118.6727402 , 136.89660506, 154.02877013,\n",
       "        170.27276435, 184.21758122, 197.8096978 , 209.4808698 ,\n",
       "        219.84561274, 226.00760132, 231.72160094, 239.19387922,\n",
       "        246.58155546, 253.68422902, 259.80494832, 263.25593047,\n",
       "        262.1054566 , 256.58255938, 247.41127058, 235.58697717,\n",
       "        221.96092058],\n",
       "       [  0.        , 136.06498527, 153.38467767, 170.56843762,\n",
       "        185.43007261, 199.80239678, 212.61779063, 223.88808046,\n",
       "        233.93413024, 241.50946259, 246.61992852, 253.87458296,\n",
       "        259.57412146, 264.07947158, 268.46272794, 270.54987848,\n",
       "        270.80358298, 267.45118306, 260.91523072, 251.82961767,\n",
       "        240.76810741],\n",
       "       [  0.        , 151.61382308, 169.87972071, 185.65293677,\n",
       "        200.6171819 , 214.70811512, 227.19617715, 238.19767503,\n",
       "        248.26920775, 257.53259741, 262.50467062, 266.36751647,\n",
       "        271.78045161, 274.66043558, 276.52719903, 276.25902149,\n",
       "        274.19161891, 269.54507182, 264.79399125, 257.98316926,\n",
       "        249.44476609],\n",
       "       [  0.        , 165.99949752, 184.92832301, 200.04705956,\n",
       "        215.09273102, 228.64240815, 240.67447579, 252.08433608,\n",
       "        262.35327375, 270.88254538, 277.58812516, 280.75045561,\n",
       "        282.42154214, 284.85732349, 285.75495829, 284.16020179,\n",
       "        280.04108713, 274.87472841, 267.11256496, 259.40441512,\n",
       "        250.12049335],\n",
       "       [  0.        , 179.71450873, 199.14010669, 214.4165093 ,\n",
       "        228.84654674, 241.85407792, 253.7660545 , 265.06736042,\n",
       "        274.51272621, 282.76826296, 289.38530902, 294.20860344,\n",
       "        296.70488119, 296.75273432, 294.03904756, 289.5933198 ,\n",
       "        286.40425508, 280.96827714, 273.760687  , 264.26375983,\n",
       "        253.09407518],\n",
       "       [  0.        , 192.95434742, 212.79804088, 228.15704186,\n",
       "        242.04514829, 254.42478675, 266.09442119, 276.38183861,\n",
       "        284.91605779, 292.34783833, 297.75092647, 301.43795412,\n",
       "        303.69351   , 304.03586842, 302.80714112, 299.97256195,\n",
       "        294.99364398, 286.6289303 , 275.99739528, 265.40471895,\n",
       "        253.02123466],\n",
       "       [  0.        , 205.71373082, 225.93249429, 241.35749521,\n",
       "        254.62925228, 266.41288842, 277.70176749, 286.71171891,\n",
       "        294.58317976, 300.36084399, 304.56797829, 307.04853894,\n",
       "        308.00917644, 307.75283659, 306.38180095, 303.55663903,\n",
       "        298.2229346 , 291.47290162, 280.20626051, 265.05191321,\n",
       "        250.54134566],\n",
       "       [  0.        , 217.97403938, 238.5134343 , 253.95195722,\n",
       "        266.4350539 , 277.94689939, 287.94766898, 296.09790102,\n",
       "        302.30074731, 307.14190423, 310.26479781, 312.01179345,\n",
       "        312.60034765, 312.05626656, 310.06009176, 306.33911455,\n",
       "        300.85397999, 291.39264124, 281.17390884, 264.60249472,\n",
       "        243.57962384],\n",
       "       [  0.        , 229.58722823, 250.37928679, 265.76633882,\n",
       "        277.36975138, 288.34060904, 296.7443151 , 304.13868334,\n",
       "        309.56360589, 313.37406991, 315.82310874, 317.01137803,\n",
       "        316.86692333, 315.45152056, 312.64826611, 307.57454869,\n",
       "        299.06776842, 289.36371803, 273.3391335 , 257.2786184 ,\n",
       "        232.9846161 ],\n",
       "       [  0.        , 240.44827667, 261.41855242, 276.68472969,\n",
       "        288.00065104, 297.36293425, 305.29488626, 311.19070773,\n",
       "        315.44089165, 318.27519331, 320.04063451, 320.49353509,\n",
       "        319.58003735, 316.97399031, 311.82397881, 305.00111537,\n",
       "        295.03765987, 279.81321112, 263.31328017, 238.56491024,\n",
       "        215.15102796],\n",
       "       [  0.        , 250.10086506, 271.13347094, 286.16523892,\n",
       "        297.06916169, 305.17420002, 311.25244704, 316.43633918,\n",
       "        320.04445067, 322.21981364, 322.9913893 , 322.23428225,\n",
       "        319.5771612 , 314.99029071, 308.88445058, 298.47860519,\n",
       "        284.76120405, 267.49264994, 244.17463781, 219.59201086,\n",
       "        188.48360424],\n",
       "       [  0.        , 257.71178674, 278.64217828, 293.30801577,\n",
       "        303.69725845, 311.22221565, 316.70007891, 320.53147688,\n",
       "        322.8725339 , 323.73096771, 322.97426041, 320.79942556,\n",
       "        317.31585013, 311.02286721, 300.24818059, 288.04540631,\n",
       "        270.11044566, 248.12278302, 222.49650162, 192.60828721,\n",
       "        162.36375506]])"
      ]
     },
     "execution_count": 45,
     "metadata": {},
     "output_type": "execute_result"
    }
   ],
   "source": [
    "agent.V"
   ]
  },
  {
   "cell_type": "code",
   "execution_count": 89,
   "metadata": {},
   "outputs": [
    {
     "data": {
      "text/plain": [
       "array([[1, 1, 1, 1, 1, 1, 1, 1],\n",
       "       [1, 1, 1, 1, 1, 1, 1, 1],\n",
       "       [1, 1, 1, 1, 1, 1, 1, 1],\n",
       "       [1, 1, 1, 1, 1, 1, 1, 1],\n",
       "       [1, 1, 1, 1, 1, 1, 1, 1],\n",
       "       [1, 1, 1, 1, 1, 1, 1, 1],\n",
       "       [1, 1, 1, 1, 1, 1, 1, 1],\n",
       "       [3, 3, 3, 3, 3, 3, 3, 0]])"
      ]
     },
     "execution_count": 89,
     "metadata": {},
     "output_type": "execute_result"
    }
   ],
   "source": [
    "#agent.policy\n",
    "#np.savetxt('policy_CarRental.out', agent.policy)\n",
    "#np.savetxt('StateValue_CarRental.out', agent.V)"
   ]
  },
  {
   "cell_type": "markdown",
   "metadata": {},
   "source": [
    "## Gambling"
   ]
  },
  {
   "cell_type": "code",
   "execution_count": 232,
   "metadata": {},
   "outputs": [],
   "source": [
    "class Gamble:\n",
    "    def __init__(self,p):\n",
    "        #self.maxrow = r\n",
    "        self.maxcol = 101\n",
    "        self.tot_act = 51\n",
    "        self.actions = [i for i in range(0,self.tot_act)]\n",
    "        self.vi_list = []\n",
    "        self.p = p\n",
    "        self.P = [self.p,1-self.p]\n",
    "    \n",
    "    '''\n",
    "    Under construction\n",
    "    '''\n",
    "    def vi_test(self,Q):\n",
    "        N = 10\n",
    "        return_val = 0\n",
    "        while N:\n",
    "            start_row = 0#random.randint(0,self.maxrow-1)\n",
    "            start_col = 0#random.randint(0,self.maxcol-1)\n",
    "            tot_iter = 20\n",
    "            while tot_iter:\n",
    "                state = (start_row,start_col)\n",
    "                self.set_start_state(state)\n",
    "                action = np.argmax(Q[state])\n",
    "                new_state,reward,done = self.step(action)\n",
    "                return_val += (reward + 0.9 * np.max(Q[new_state]))/N\n",
    "                if new_state[0] == self.goal_row and new_state[1] == self.goal_col:\n",
    "                    break\n",
    "                tot_iter -= 1\n",
    "                start_row = new_state[0]\n",
    "                state_col = new_state[1]\n",
    "            N-=1\n",
    "        self.vi_list.append(return_val)"
   ]
  },
  {
   "cell_type": "code",
   "execution_count": 238,
   "metadata": {},
   "outputs": [],
   "source": [
    "class ValueIterationGamble:\n",
    "    def __init__(self,env):\n",
    "        self.env = env\n",
    "        #self.gamma = 0.9\n",
    "        self.Q = np.zeros((env.maxcol,env.tot_act))\n",
    "        self.V = np.zeros((101))\n",
    "        self.policy = np.zeros((101))\n",
    "        \n",
    "    def update(self):\n",
    "        delta = 0\n",
    "        eps = 1e-2\n",
    "        iterations = 100\n",
    "        while iterations:\n",
    "            for state in range(1,len(self.V)-1):\n",
    "                #print(state)\n",
    "                v = self.V[state]\n",
    "                for action in self.env.actions:\n",
    "                    #self.env.set_start_state(state)\n",
    "                    #new_state,reward,done = self.env.step(action)\n",
    "                    #print(reward)\n",
    "                    self.Q[state][action] = self.calculate_reward(action,state)\n",
    "                    if action == min(state,100-state):\n",
    "                        break\n",
    "                self.V[state] = np.max(self.Q[state])\n",
    "                #delta = max(delta,abs(v-self.V[state]))\n",
    "                #print(delta)\n",
    "                #if delta < eps:\n",
    "                #    break\n",
    "            iterations -= 1\n",
    "                \n",
    "\n",
    "        #print(self.V)\n",
    "        #self.env.vi_test(self.Q)\n",
    "    \n",
    "    def calculate_reward(self,action,state):\n",
    "        return_tot = 0\n",
    "        state_prime = [state+action,state-action]\n",
    "        \n",
    "        for i in range(len(state_prime)):\n",
    "            if state_prime[i] == 100:\n",
    "                reward = 1\n",
    "            else:\n",
    "                reward = 0\n",
    "            return_tot += self.env.P[i] * (reward +  self.V[state_prime[i]]) \n",
    "        \n",
    "        return return_tot\n",
    "    \n",
    "    def get_best_policy(self):\n",
    "        for row in range(1,len(self.Q)-1): #1-99 states\n",
    "            self.policy[row] = np.argmax(self.Q[row])\n",
    "            \n",
    "    def get_action(self):\n",
    "        pass"
   ]
  },
  {
   "cell_type": "code",
   "execution_count": 243,
   "metadata": {
    "scrolled": false
   },
   "outputs": [
    {
     "name": "stdout",
     "output_type": "stream",
     "text": [
      "P =  0.4\n"
     ]
    },
    {
     "data": {
      "image/png": "[encoded data removed]",
      "text/plain": [
       "<matplotlib.figure.Figure at 0x7f82a7fbff28>"
      ]
     },
     "metadata": {
      "needs_background": "light"
     },
     "output_type": "display_data"
    },
    {
     "data": {
      "image/png": "[encoded data removed]",
      "text/plain": [
       "<matplotlib.figure.Figure at 0x7f82a7f5e400>"
      ]
     },
     "metadata": {
      "needs_background": "light"
     },
     "output_type": "display_data"
    },
    {
     "name": "stdout",
     "output_type": "stream",
     "text": [
      "P =  0.15\n"
     ]
    },
    {
     "data": {
      "image/png": "[encoded data removed]",
      "text/plain": [
       "<matplotlib.figure.Figure at 0x7f82a8fb11d0>"
      ]
     },
     "metadata": {
      "needs_background": "light"
     },
     "output_type": "display_data"
    },
    {
     "data": {
      "image/png": "[encoded data removed]",
      "text/plain": [
       "<matplotlib.figure.Figure at 0x7f82a8106da0>"
      ]
     },
     "metadata": {
      "needs_background": "light"
     },
     "output_type": "display_data"
    },
    {
     "name": "stdout",
     "output_type": "stream",
     "text": [
      "P =  0.65\n"
     ]
    },
    {
     "data": {
      "image/png": "[encoded data removed]",
      "text/plain": [
       "<matplotlib.figure.Figure at 0x7f82ab36fc18>"
      ]
     },
     "metadata": {
      "needs_background": "light"
     },
     "output_type": "display_data"
    },
    {
     "data": {
      "image/png": "[encoded data removed]",
      "text/plain": [
       "<matplotlib.figure.Figure at 0x7f82a8fcdb00>"
      ]
     },
     "metadata": {
      "needs_background": "light"
     },
     "output_type": "display_data"
    }
   ],
   "source": [
    "tests = [0.4,0.15,0.65]\n",
    "for p in tests:\n",
    "    env_gamble =  Gamble(p)\n",
    "    agent_gamble = ValueIterationGamble(env_gamble)\n",
    "    agent_gamble.update()\n",
    "    agent_gamble.get_best_policy()\n",
    "    #plot\n",
    "    print('P = ',p)\n",
    "    capital = [i for i in range(0,100)]\n",
    "    plt.plot(capital,agent_gamble.V[:-1],label='Final sweep ')\n",
    "    plt.xlabel(\"capital\")\n",
    "    plt.ylabel(\"value estimates\")\n",
    "    plt.title(\"Gambling (Value Iteration)\")\n",
    "    plt.legend()\n",
    "    plt.show()\n",
    "    \n",
    "    plt.plot(capital,agent_gamble.policy)\n",
    "    plt.xlabel(\"capital\")\n",
    "    plt.ylabel(\"final policy (stake)\")\n",
    "    plt.title(\"Gambling (Value Iteration)\")\n",
    "    plt.show()"
   ]
  },
  {
   "cell_type": "code",
   "execution_count": null,
   "metadata": {},
   "outputs": [],
   "source": []
  }
 ],
 "metadata": {
  "kernelspec": {
   "display_name": "Python 3",
   "language": "python",
   "name": "python3"
  },
  "language_info": {
   "codemirror_mode": {
    "name": "ipython",
    "version": 3
   },
   "file_extension": ".py",
   "mimetype": "text/x-python",
   "name": "python",
   "nbconvert_exporter": "python",
   "pygments_lexer": "ipython3",
   "version": "3.6.8"
  }
 },
 "nbformat": 4,
 "nbformat_minor": 2
}
